{
 "cells": [
  {
   "cell_type": "code",
   "execution_count": 30,
   "metadata": {},
   "outputs": [],
   "source": [
    "from selenium import webdriver\n",
    "from selenium.webdriver.common.by import By\n",
    "import time\n",
    "from bs4 import BeautifulSoup\n",
    "import requests"
   ]
  },
  {
   "cell_type": "code",
   "execution_count": 90,
   "metadata": {},
   "outputs": [],
   "source": [
    "from bs4 import BeautifulSoup\n",
    "import urllib\n",
    "import urllib.request as req"
   ]
  },
  {
   "cell_type": "code",
   "execution_count": 29,
   "metadata": {},
   "outputs": [
    {
     "ename": "AttributeError",
     "evalue": "ResultSet object has no attribute 'text'. You're probably treating a list of elements like a single element. Did you call find_all() when you meant to call find()?",
     "output_type": "error",
     "traceback": [
      "\u001b[1;31m---------------------------------------------------------------------------\u001b[0m",
      "\u001b[1;31mAttributeError\u001b[0m                            Traceback (most recent call last)",
      "Cell \u001b[1;32mIn[29], line 12\u001b[0m\n\u001b[0;32m      7\u001b[0m \u001b[39m# # 원하는 내용만 추출\u001b[39;00m\n\u001b[0;32m      8\u001b[0m \u001b[39m# title = soup.select('.h3.se_textarea')\u001b[39;00m\n\u001b[0;32m      9\u001b[0m \n\u001b[0;32m     10\u001b[0m \u001b[39m# title= driver.find_element(By.CLASS_NAME, 'se_textarea')\u001b[39;00m\n\u001b[0;32m     11\u001b[0m f \u001b[39m=\u001b[39m soup\u001b[39m.\u001b[39mselect(\u001b[39m'\u001b[39m\u001b[39m.h3.se_textarea\u001b[39m\u001b[39m'\u001b[39m)\n\u001b[1;32m---> 12\u001b[0m \u001b[39mprint\u001b[39m(f\u001b[39m.\u001b[39;49mtext)\n\u001b[0;32m     13\u001b[0m \u001b[39m# title\u001b[39;00m\n",
      "File \u001b[1;32mc:\\Users\\tjswj\\AppData\\Local\\Programs\\Python\\Python311\\Lib\\site-packages\\bs4\\element.py:2428\u001b[0m, in \u001b[0;36mResultSet.__getattr__\u001b[1;34m(self, key)\u001b[0m\n\u001b[0;32m   2426\u001b[0m \u001b[39mdef\u001b[39;00m \u001b[39m__getattr__\u001b[39m(\u001b[39mself\u001b[39m, key):\n\u001b[0;32m   2427\u001b[0m \u001b[39m    \u001b[39m\u001b[39m\"\"\"Raise a helpful exception to explain a common code fix.\"\"\"\u001b[39;00m\n\u001b[1;32m-> 2428\u001b[0m     \u001b[39mraise\u001b[39;00m \u001b[39mAttributeError\u001b[39;00m(\n\u001b[0;32m   2429\u001b[0m         \u001b[39m\"\u001b[39m\u001b[39mResultSet object has no attribute \u001b[39m\u001b[39m'\u001b[39m\u001b[39m%s\u001b[39;00m\u001b[39m'\u001b[39m\u001b[39m. You\u001b[39m\u001b[39m'\u001b[39m\u001b[39mre probably treating a list of elements like a single element. Did you call find_all() when you meant to call find()?\u001b[39m\u001b[39m\"\u001b[39m \u001b[39m%\u001b[39m key\n\u001b[0;32m   2430\u001b[0m     )\n",
      "\u001b[1;31mAttributeError\u001b[0m: ResultSet object has no attribute 'text'. You're probably treating a list of elements like a single element. Did you call find_all() when you meant to call find()?"
     ]
    }
   ],
   "source": [
    "driver = webdriver.Chrome()\n",
    "driver.implicitly_wait(5)\n",
    "driver.get('https://blog.naver.com/skfoodcompany')\n",
    "\n",
    "data = requests.get('https://blog.naver.com/skfoodcompany')\n",
    "soup = BeautifulSoup(data.content,'html.parser')\n",
    "# # 원하는 내용만 추출\n",
    "# title = soup.select('.h3.se_textarea')\n",
    "\n",
    "# title= driver.find_element(By.CLASS_NAME, 'se_textarea')\n",
    "f = soup.select('.h3.se_textarea')\n",
    "print(f.text)\n",
    "# title"
   ]
  },
  {
   "cell_type": "code",
   "execution_count": 39,
   "metadata": {},
   "outputs": [],
   "source": [
    "\n",
    "\n",
    "url=\"https://blog.naver.com/skfoodcompany\"\n",
    "res = req.urlopen(url)\n",
    "soup = BeautifulSoup(res, 'html.parser')\n",
    "\n",
    "title = soup.select(\"h3.se_textarea\")\n",
    "\n",
    "for a in title:\t\t\t\n",
    "    print(a)\n",
    "    print(a.get_text())"
   ]
  },
  {
   "cell_type": "code",
   "execution_count": 63,
   "metadata": {},
   "outputs": [
    {
     "data": {
      "text/plain": [
       "[]"
      ]
     },
     "execution_count": 63,
     "metadata": {},
     "output_type": "execute_result"
    }
   ],
   "source": [
    "\n",
    "url=\"https://blog.naver.com//PostView.naver?blogId=skfoodcompany&logNo=223166454257&redirect=Dlog&widgetTypeCall=true&directAccess=false\"\n",
    "res = req.urlopen(url)\n",
    "soup = BeautifulSoup(res, 'html.parser')\n",
    "soup\n",
    "\n",
    "title = soup.select(\"se_textarea\")\n",
    "title\n"
   ]
  },
  {
   "cell_type": "code",
   "execution_count": 104,
   "metadata": {},
   "outputs": [
    {
     "name": "stdout",
     "output_type": "stream",
     "text": [
      "오늘의 날짜 : 7월26일\n"
     ]
    },
    {
     "data": {
      "text/plain": [
       "('obap7월26일.jpg', <http.client.HTTPMessage at 0x23147aba250>)"
      ]
     },
     "execution_count": 104,
     "metadata": {},
     "output_type": "execute_result"
    }
   ],
   "source": [
    "# 오밥 제목 크롤링 \n",
    "driver = webdriver.Chrome()\n",
    "driver.implicitly_wait(5)\n",
    "driver.get('https://blog.naver.com/skfoodcompany')\n",
    "# iframe tag를 찾아, switch_to.frame() 으로 전환.\n",
    "iframe = driver.find_element(By.TAG_NAME,\"iframe\")\n",
    "driver.switch_to.frame(iframe)\n",
    "\n",
    "day = driver.find_element(By.CLASS_NAME, \"se_textarea\")\n",
    "\n",
    "print(f\"오늘의 날짜 : {day.text[:5]}\")\n",
    "\n",
    "\n",
    "\n",
    "# 오밥 이미지 크롤링 및 저장\n",
    "# https://hogni.tistory.com/57 를 참고함\n",
    "url = \"https://postfiles.pstatic.net/MjAyMzA3MjZfMTky/MDAxNjkwMzM4Nzk5MjE1.2uVimPNKQz4YyfSUrUblDrb419Oq0bqqUCRkICC1Gecg.0pOoLNlnR1EiENgJ8EuX6n8B7SfaVFwpCqvgVcBy9iog.JPEG.skfoodcompany/1690338722337.jpg?type=w773\"\n",
    "urllib.request.urlretrieve(url, f'obap{day.text[:5]}.jpg')"
   ]
  },
  {
   "cell_type": "code",
   "execution_count": null,
   "metadata": {},
   "outputs": [],
   "source": []
  }
 ],
 "metadata": {
  "kernelspec": {
   "display_name": "Python 3",
   "language": "python",
   "name": "python3"
  },
  "language_info": {
   "codemirror_mode": {
    "name": "ipython",
    "version": 3
   },
   "file_extension": ".py",
   "mimetype": "text/x-python",
   "name": "python",
   "nbconvert_exporter": "python",
   "pygments_lexer": "ipython3",
   "version": "3.11.4"
  },
  "orig_nbformat": 4
 },
 "nbformat": 4,
 "nbformat_minor": 2
}
