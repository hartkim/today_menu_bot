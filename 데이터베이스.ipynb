{
 "cells": [
  {
   "cell_type": "code",
   "execution_count": 2,
   "metadata": {},
   "outputs": [
    {
     "name": "stdout",
     "output_type": "stream",
     "text": [
      "Collecting pymysql\n",
      "  Downloading PyMySQL-1.1.0-py3-none-any.whl (44 kB)\n",
      "                                              0.0/44.8 kB ? eta -:--:--\n",
      "     ---------------------------------------- 44.8/44.8 kB ? eta 0:00:00\n",
      "Installing collected packages: pymysql\n",
      "Successfully installed pymysql-1.1.0\n"
     ]
    },
    {
     "name": "stderr",
     "output_type": "stream",
     "text": [
      "\n",
      "[notice] A new release of pip is available: 23.1.2 -> 23.2.1\n",
      "[notice] To update, run: python.exe -m pip install --upgrade pip\n"
     ]
    }
   ],
   "source": [
    "!pip install pymysql"
   ]
  },
  {
   "cell_type": "code",
   "execution_count": 6,
   "metadata": {},
   "outputs": [
    {
     "name": "stdout",
     "output_type": "stream",
     "text": [
      "Collecting cryptography\n",
      "  Downloading cryptography-41.0.2-cp37-abi3-win_amd64.whl (2.6 MB)\n",
      "                                              0.0/2.6 MB ? eta -:--:--\n",
      "     --                                       0.2/2.6 MB 3.6 MB/s eta 0:00:01\n",
      "     ------                                   0.4/2.6 MB 5.3 MB/s eta 0:00:01\n",
      "     ----------                               0.7/2.6 MB 4.9 MB/s eta 0:00:01\n",
      "     ---------------                          1.0/2.6 MB 5.7 MB/s eta 0:00:01\n",
      "     -----------------                        1.2/2.6 MB 5.6 MB/s eta 0:00:01\n",
      "     ---------------------                    1.4/2.6 MB 5.5 MB/s eta 0:00:01\n",
      "     ------------------------                 1.6/2.6 MB 5.4 MB/s eta 0:00:01\n",
      "     ------------------------------           2.0/2.6 MB 5.7 MB/s eta 0:00:01\n",
      "     ---------------------------------        2.2/2.6 MB 5.8 MB/s eta 0:00:01\n",
      "     --------------------------------------   2.5/2.6 MB 5.9 MB/s eta 0:00:01\n",
      "     ---------------------------------------- 2.6/2.6 MB 5.8 MB/s eta 0:00:00\n",
      "Requirement already satisfied: cffi>=1.12 in c:\\users\\tjswj\\appdata\\local\\programs\\python\\python311\\lib\\site-packages (from cryptography) (1.15.1)\n",
      "Requirement already satisfied: pycparser in c:\\users\\tjswj\\appdata\\local\\programs\\python\\python311\\lib\\site-packages (from cffi>=1.12->cryptography) (2.21)\n",
      "Installing collected packages: cryptography\n",
      "Successfully installed cryptography-41.0.2\n"
     ]
    },
    {
     "name": "stderr",
     "output_type": "stream",
     "text": [
      "\n",
      "[notice] A new release of pip is available: 23.1.2 -> 23.2.1\n",
      "[notice] To update, run: python.exe -m pip install --upgrade pip\n"
     ]
    }
   ],
   "source": [
    "!pip install cryptography"
   ]
  },
  {
   "cell_type": "code",
   "execution_count": 1,
   "metadata": {},
   "outputs": [],
   "source": [
    " import pymysql\n",
    " import cryptography"
   ]
  },
  {
   "cell_type": "code",
   "execution_count": 3,
   "metadata": {},
   "outputs": [],
   "source": [
    "# pymysql.connect(host=서버IP주소, user=사용자, passoword=암호, db=데이터베이스, charset=문자세트)\n",
    "\n",
    "conn = pymysql.connect(host='127.0.0.1', user='root', password='seonjeong', db='obap_db', charset='utf8')\n",
    "cur = conn.cursor()\n",
    "\n",
    "cur.execute(\"INSERT INTO menu_table VALUES( '{}' , '{}')\".format(today,menu))\n",
    "conn.commit()\n",
    "conn.close()"
   ]
  }
 ],
 "metadata": {
  "kernelspec": {
   "display_name": "Python 3",
   "language": "python",
   "name": "python3"
  },
  "language_info": {
   "codemirror_mode": {
    "name": "ipython",
    "version": 3
   },
   "file_extension": ".py",
   "mimetype": "text/x-python",
   "name": "python",
   "nbconvert_exporter": "python",
   "pygments_lexer": "ipython3",
   "version": "3.11.4"
  },
  "orig_nbformat": 4
 },
 "nbformat": 4,
 "nbformat_minor": 2
}
